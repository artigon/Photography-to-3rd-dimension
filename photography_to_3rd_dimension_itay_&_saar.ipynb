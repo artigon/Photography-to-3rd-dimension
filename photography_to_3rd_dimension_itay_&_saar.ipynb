{
  "cells": [
    {
      "cell_type": "markdown",
      "metadata": {
        "id": "EaNMo4zFPtN3"
      },
      "source": [
        "Itay Bielski \n",
        "\n",
        "Saar Amikam "
      ]
    },
    {
      "cell_type": "code",
      "execution_count": null,
      "metadata": {
        "id": "TS-CJy3L7nkQ"
      },
      "outputs": [],
      "source": [
        "import os\n",
        "import cv2\n",
        "from google.colab import drive   # Mount Google Drive\n",
        "drive.mount('/content/drive')\n",
        "currentDir = \"/content/Project-3D\" #work directory"
      ]
    },
    {
      "cell_type": "markdown",
      "metadata": {
        "id": "WQYu2SyS4XYn"
      },
      "source": [
        "Folder paths"
      ]
    },
    {
      "cell_type": "code",
      "execution_count": null,
      "metadata": {
        "id": "NfEf302F6iVQ"
      },
      "outputs": [],
      "source": [
        "videoInput_path = '/content/drive/MyDrive/3D machine/videoInput/'#This folder holds the video input\n",
        "frames_path = '/content/drive/MyDrive/3D machine/input'#This is the input file, it holds the photos for the 3D model\n",
        "inputFolder = \"/content/drive/MyDrive/3D machine/input\" #Same input folder that holds the photos\n",
        "outputFolder = \"/content/drive/MyDrive/3D machine/output\" #This folder holds the first output of the 3D model\n",
        "finalOutput = \"/content/drive/MyDrive/3D machine/finalOutput\"#This folder holds the finished 3D model after smoothing"
      ]
    },
    {
      "cell_type": "markdown",
      "metadata": {
        "id": "9RHMas3oTolJ"
      },
      "source": [
        "To delete Data, so to create new ones"
      ]
    },
    {
      "cell_type": "code",
      "execution_count": null,
      "metadata": {
        "id": "oHYTZ2ucTse2"
      },
      "outputs": [],
      "source": [
        "# Input path\n",
        "count = 0\n",
        "# Iterate directory\n",
        "for path in os.listdir(frames_path):\n",
        "    # check if current path is a file\n",
        "    if os.path.isfile(os.path.join(frames_path, path)):\n",
        "        count += 1\n",
        "print('Input\\nBefore delete\\nfile count:', count)\n",
        "\n",
        "\n",
        "# use os.listdir() to get a list of all the files in the directory\n",
        "files = os.listdir(frames_path)\n",
        "\n",
        "# use a loop to delete each file in the directory\n",
        "for file in files:\n",
        "    file_path = os.path.join(frames_path, file)\n",
        "    os.remove(file_path)\n",
        "\n",
        "# folder path\n",
        "count = 0\n",
        "# Iterate directory\n",
        "for path in os.listdir(frames_path):\n",
        "    # check if current path is a file\n",
        "    if os.path.isfile(os.path.join(frames_path, path)):\n",
        "        count += 1\n",
        "print('\\nAfter delete\\nfile count:', count)\n",
        "\n",
        "#Output path\n",
        "# folder path\n",
        "count = 0\n",
        "# Iterate directory\n",
        "for path in os.listdir(outputFolder):\n",
        "    # check if current path is a file\n",
        "    if os.path.isfile(os.path.join(outputFolder, path)):\n",
        "        count += 1\n",
        "print('\\nOutput\\nBefore delete\\nfile count:', count)\n",
        "\n",
        "\n",
        "# use os.listdir() to get a list of all the files in the directory\n",
        "files = os.listdir(outputFolder)\n",
        "\n",
        "# use a loop to delete each file in the directory\n",
        "for file in files:\n",
        "    file_path = os.path.join(outputFolder, file)\n",
        "    os.remove(file_path)\n",
        "\n",
        "# folder path\n",
        "count = 0\n",
        "# Iterate directory\n",
        "for path in os.listdir(outputFolder):\n",
        "    # check if current path is a file\n",
        "    if os.path.isfile(os.path.join(outputFolder, path)):\n",
        "        count += 1\n",
        "print('\\nAfter delete\\nfile count:', count)\n",
        "\n",
        "#FinalOutput path\n",
        "# folder path\n",
        "count = 0\n",
        "# Iterate directory\n",
        "for path in os.listdir(finalOutput):\n",
        "    # check if current path is a file\n",
        "    if os.path.isfile(os.path.join(finalOutput, path)):\n",
        "        count += 1\n",
        "print('\\nFinalOutput\\nBefore delete\\nfile count:', count)\n",
        "\n",
        "\n",
        "# use os.listdir() to get a list of all the files in the directory\n",
        "files = os.listdir(finalOutput)\n",
        "\n",
        "# use a loop to delete each file in the directory\n",
        "for file in files:\n",
        "    file_path = os.path.join(finalOutput, file)\n",
        "    os.remove(file_path)\n",
        "\n",
        "# folder path\n",
        "count = 0\n",
        "# Iterate directory\n",
        "for path in os.listdir(finalOutput):\n",
        "    # check if current path is a file\n",
        "    if os.path.isfile(os.path.join(finalOutput, path)):\n",
        "        count += 1\n",
        "print('\\nAfter delete\\nfile count:', count)"
      ]
    },
    {
      "cell_type": "markdown",
      "metadata": {
        "id": "Cg-iciD0mQnZ"
      },
      "source": [
        "To convert video to photos"
      ]
    },
    {
      "cell_type": "code",
      "execution_count": null,
      "metadata": {
        "id": "bFjDiKTl0HaF"
      },
      "outputs": [],
      "source": [
        "# Set the path to the video file\n",
        "#video_path = '/content/drive/MyDrive/videoInput/IMG_2698.MOV'\n",
        "#import os\n",
        "\n",
        "videoInput_path = '/content/drive/MyDrive/videoInput/'\n",
        "\n",
        "# use os.listdir() to get a list of all the files in the directory\n",
        "files = os.listdir(videoInput_path)\n",
        "\n",
        "# use a list comprehension to filter for only video files (e.g., mp4, mov, avi)\n",
        "video_files = [f for f in files if f.endswith(('.mp4', '.MOV', '.avi'))]\n",
        "\n",
        "# select the first video file in the list to use in your program\n",
        "if video_files:\n",
        "    file_name = video_files[0]\n",
        "    video_path = os.path.join(videoInput_path, file_name)\n",
        "    print(f\"Using video file: {video_files}\")\n",
        "else:\n",
        "    print(\"No video files found in the directory.\")\n",
        "\n",
        "\n",
        "# Set the path to the directory where the frames will be saved\n",
        "#frames_path = '/content/drive/MyDrive/input'\n",
        "\n",
        "# Create the directory for the frames\n",
        "if not os.path.exists(frames_path):\n",
        "    os.makedirs(frames_path)\n",
        "\n",
        "# Open the video file using OpenCV\n",
        "cap = cv2.VideoCapture(video_path)\n",
        "\n",
        "# Initialize frame count and step size\n",
        "count = 0\n",
        "step_size = 10\n",
        "\n",
        "# Loop through each frame and save as an image file\n",
        "while cap.isOpened():\n",
        "    # Read the current frame\n",
        "    ret, frame = cap.read()\n",
        "\n",
        "    # If the frame is not valid, break out of the loop\n",
        "    if not ret:\n",
        "        break\n",
        "\n",
        "    # Save the current frame as a JPEG image file every step_size frames\n",
        "    if count % step_size == 0:\n",
        "        frame_path = os.path.join(frames_path, f'frame_{count}.jpg')\n",
        "        cv2.imwrite(frame_path, frame)\n",
        "\n",
        "    # Increment frame count\n",
        "    count += 1\n",
        "\n",
        "# Release the video capture object\n",
        "cap.release()\n",
        "\n",
        "count = 0\n",
        "# Iterate directory\n",
        "for path in os.listdir(frames_path):\n",
        "    # check if current path is a file\n",
        "    if os.path.isfile(os.path.join(frames_path, path)):\n",
        "        count += 1\n",
        "print('File count:', count)"
      ]
    },
    {
      "cell_type": "markdown",
      "metadata": {
        "id": "nJ3fNo9L2Sgu"
      },
      "source": [
        "Checks for blurry and smudge  photos, and deletes them."
      ]
    },
    {
      "cell_type": "code",
      "execution_count": null,
      "metadata": {
        "id": "sIMyGfoueXQC"
      },
      "outputs": [],
      "source": [
        "path = '/content/drive/MyDrive/input'\n",
        "threshold = 80 # adjust threshold as needed\n",
        "\n",
        "for filename in os.listdir(path):\n",
        "    img = cv2.imread(os.path.join(path, filename))\n",
        "    gray = cv2.cvtColor(img, cv2.COLOR_BGR2GRAY)\n",
        "    laplacian = cv2.Laplacian(gray, cv2.CV_64F).var()\n",
        "    if laplacian < threshold:\n",
        "        os.remove(os.path.join(path, filename))\n",
        "\n",
        "\n",
        "# folder path\n",
        "count = 0\n",
        "# Iterate directory\n",
        "for path in os.listdir(frames_path):\n",
        "    # check if current path is a file\n",
        "    if os.path.isfile(os.path.join(frames_path, path)):\n",
        "        count += 1\n",
        "print('photo count check:', count)"
      ]
    },
    {
      "cell_type": "markdown",
      "metadata": {
        "id": "9u9uhabhmM7H"
      },
      "source": [
        "To create 3d model"
      ]
    },
    {
      "cell_type": "code",
      "execution_count": null,
      "metadata": {
        "colab": {
          "background_save": true
        },
        "id": "bshwLQW00K7_"
      },
      "outputs": [],
      "source": [
        "import pathlib  #to check the path and verify if the required SW is allready installed\n",
        "\n",
        "\n",
        "print(\"\\nLaunching 3D-Reconstruction application on Google colab\\n\")\n",
        "\n",
        "# Folder paths\n",
        "print(\"Locating input images in google drive...\\n\")\n",
        "#inputFolder = \"/content/drive/MyDrive/input\" # Folder in Google drive with input images\n",
        "#outputFolder = \"/content/drive/MyDrive/output\" # Folder in Google drive where output will be finally store/moved\n",
        "inputFiles = currentDir + \"/input\" # folder in work directory with the input images\n",
        "outputFiles = currentDir + \"/output\" # folder in work directory with output files\n",
        "meshroomFolder = currentDir + \"/meshroom\" # folder in work directory with all meshroom files\n",
        "\n",
        "# Creating all directories\n",
        "!mkdir -v $currentDir # will be skipped if allready existing\n",
        "#inputFolder should allready be created in google drive and should contain images used for 3D reconstruction\n",
        "!mkdir -v $outputFolder  # will be skipped if allready existing\n",
        "!mkdir -v $inputFiles #temporary folder in work directory to store input images. Should be deleted once 3D is made.\n",
        "!mkdir -v $outputFiles #temporary folder in work directory to store 3D output files. Should be deleted once 3D output is moved to google drive folder.\n",
        "!mkdir -v $meshroomFolder # will be skipped if allready existing\n",
        "\n",
        "# Go to work directory\n",
        "%cd $currentDir\n",
        "\n",
        "# Make copy of input image files from the google drive folder to the input folder of work directory\n",
        "print(\"\\nCopying input images from google drive to work directory...\\n\")\n",
        "%cp -arv $inputFolder/* $inputFiles\n",
        "\n",
        "# Check if meshroom is allready installed. If not, download and install meshroom\n",
        "meshroom_files = pathlib.Path(\"/content/Project-3D/meshroom/Meshroom-2019.2.0\")\n",
        "\n",
        "if not meshroom_files.exists ():\n",
        "  print(\"\\nMeshroom not found.\\nInstalling Meshroom...\")\n",
        "  !wget -N https://github.com/alicevision/meshroom/releases/download/v2019.2.0/Meshroom-2019.2.0-linux.tar.gz\n",
        "  !tar xzf Meshroom-2019.2.0-linux.tar.gz -C $meshroomFolder\n",
        "  %mv -v /content/Project-3D/meshroom/Meshroom-2019.2.0/* $meshroomFolder\n",
        "else :\n",
        "   print (\"\\nMeshroom is allredy installed. Skipping a new installation...\")\n",
        "\n",
        "# Execute Meshroom\n",
        "startMeshroom = meshroomFolder+\"/meshroom_photogrammetry\"\n",
        "!$startMeshroom --input $inputFiles --output $outputFiles\n",
        "\n",
        "# Copy Output from work directory to the output folder in google drive\n",
        "print(\"\\nMoving output files to google drive...\\n\")\n",
        "%cp -arv $outputFiles/* $outputFolder\n",
        "\n",
        "# Remove the input and output folder in work directory\n",
        "print(\"\\nRemoving all temporary files...\\n\")\n",
        "%rm -Rv $inputFiles\n",
        "%rm -Rv $outputFiles\n",
        "\n",
        "print('#########################################################################################################################################################################################################')\n"
      ]
    },
    {
      "cell_type": "code",
      "execution_count": null,
      "metadata": {
        "id": "nzbysMblvAF2",
        "colab": {
          "base_uri": "https://localhost:8080/"
        },
        "outputId": "706555f5-27c5-4e61-fb78-170b4209b980"
      },
      "outputs": [
        {
          "output_type": "stream",
          "name": "stdout",
          "text": [
            "Looking in indexes: https://pypi.org/simple, https://us-python.pkg.dev/colab-wheels/public/simple/\n",
            "Collecting pymeshlab\n",
            "  Downloading pymeshlab-2022.2.post4-cp310-cp310-manylinux_2_31_x86_64.whl (64.9 MB)\n",
            "\u001b[2K     \u001b[90m━━━━━━━━━━━━━━━━━━━━━━━━━━━━━━━━━━━━━━━━\u001b[0m \u001b[32m64.9/64.9 MB\u001b[0m \u001b[31m13.1 MB/s\u001b[0m eta \u001b[36m0:00:00\u001b[0m\n",
            "\u001b[?25hRequirement already satisfied: numpy in /usr/local/lib/python3.10/dist-packages (from pymeshlab) (1.22.4)\n",
            "Installing collected packages: pymeshlab\n",
            "Successfully installed pymeshlab-2022.2.post4\n"
          ]
        }
      ],
      "source": [
        "!pip install pymeshlab"
      ]
    },
    {
      "cell_type": "code",
      "execution_count": null,
      "metadata": {
        "id": "nWHxTxndVnPp",
        "colab": {
          "base_uri": "https://localhost:8080/"
        },
        "outputId": "c4e422c0-14a9-48fa-9789-ab74c59e6cd4"
      },
      "outputs": [
        {
          "output_type": "stream",
          "name": "stderr",
          "text": [
            "<ipython-input-12-58bd93414e2b>:8: UserWarning: Deprecated Filter Warning: You should use 'apply_coord_laplacian_smoothing' instead of 'laplacian_smooth'. See https://pymeshlab.readthedocs.io/en/latest/index.html#filters-renaming\n",
            "  ms.apply_filter('laplacian_smooth', stepsmoothnum = 3)\n",
            "<ipython-input-12-58bd93414e2b>:10: UserWarning: Deprecated Filter Warning: You should use 'compute_matrix_from_rotation' instead of 'transform_rotate'. See https://pymeshlab.readthedocs.io/en/latest/index.html#filters-renaming\n",
            "  ms.apply_filter('transform_rotate', rotaxis='Z axis', angle=180)\n"
          ]
        }
      ],
      "source": [
        "import pymeshlab as ml\n",
        "\n",
        "input_obj_file = \"/content/drive/MyDrive/3D machine/output/texturedMesh.obj\"\n",
        "\n",
        "\n",
        "ms = ml.MeshSet()\n",
        "ms.load_new_mesh(input_obj_file)\n",
        "ms.apply_filter('laplacian_smooth', stepsmoothnum = 3)\n",
        "#ms.apply_filter('transform_flip_and_or_swap_axis',flipy = True, freeze = True)\n",
        "ms.apply_filter('transform_rotate', rotaxis='Z axis', angle=180)\n",
        "#apply some other filters....\n",
        "\n",
        "#.. and then save the script\n",
        "ms.save_filter_script('/content/drive/MyDrive/3D machine/MLX folder/my_script.mlx')"
      ]
    },
    {
      "cell_type": "code",
      "execution_count": null,
      "metadata": {
        "id": "6xTwsat3AlGp"
      },
      "outputs": [],
      "source": [
        "ms.load_new_mesh(input_obj_file)\n",
        "ms.load_filter_script('/content/drive/MyDrive/3D machine/MLX folder/my_script.mlx')\n",
        "ms.apply_filter_script()\n",
        "ms.save_current_mesh('/content/drive/MyDrive/3D machine/finalOutput/texturedMesh.obj')"
      ]
    }
  ],
  "metadata": {
    "accelerator": "GPU",
    "colab": {
      "provenance": [],
      "gpuType": "V100"
    },
    "gpuClass": "standard",
    "kernelspec": {
      "display_name": "Python 3",
      "name": "python3"
    }
  },
  "nbformat": 4,
  "nbformat_minor": 0
}